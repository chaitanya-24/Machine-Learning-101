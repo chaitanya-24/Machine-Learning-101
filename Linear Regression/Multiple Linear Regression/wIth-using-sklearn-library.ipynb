{
 "cells": [
  {
   "cell_type": "code",
   "execution_count": 1,
   "id": "336c46d0",
   "metadata": {},
   "outputs": [],
   "source": [
    "from sklearn.datasets import make_regression\n",
    "import pandas as pd\n",
    "import numpy as np\n",
    "\n",
    "import plotly.express as px\n",
    "import plotly.graph_objects as go\n",
    "\n",
    "from sklearn.metrics import mean_absolute_error, mean_squared_error, r2_score"
   ]
  },
  {
   "cell_type": "code",
   "execution_count": 2,
   "id": "399c2fa7",
   "metadata": {},
   "outputs": [],
   "source": [
    "X, y = make_regression(n_samples=100, n_features=2, n_informative=2, n_targets=1, noise=50)"
   ]
  },
  {
   "cell_type": "code",
   "execution_count": 3,
   "id": "2d9e2669",
   "metadata": {},
   "outputs": [],
   "source": [
    "df = pd.DataFrame({'feature1': X[:,0], 'feature2': X[:, 1], 'target':y})"
   ]
  },
  {
   "cell_type": "code",
   "execution_count": 4,
   "id": "7fceed9a",
   "metadata": {},
   "outputs": [
    {
     "data": {
      "text/html": [
       "<div>\n",
       "<style scoped>\n",
       "    .dataframe tbody tr th:only-of-type {\n",
       "        vertical-align: middle;\n",
       "    }\n",
       "\n",
       "    .dataframe tbody tr th {\n",
       "        vertical-align: top;\n",
       "    }\n",
       "\n",
       "    .dataframe thead th {\n",
       "        text-align: right;\n",
       "    }\n",
       "</style>\n",
       "<table border=\"1\" class=\"dataframe\">\n",
       "  <thead>\n",
       "    <tr style=\"text-align: right;\">\n",
       "      <th></th>\n",
       "      <th>feature1</th>\n",
       "      <th>feature2</th>\n",
       "      <th>target</th>\n",
       "    </tr>\n",
       "  </thead>\n",
       "  <tbody>\n",
       "    <tr>\n",
       "      <th>0</th>\n",
       "      <td>1.330556</td>\n",
       "      <td>-1.646070</td>\n",
       "      <td>-5.411787</td>\n",
       "    </tr>\n",
       "    <tr>\n",
       "      <th>1</th>\n",
       "      <td>1.685005</td>\n",
       "      <td>-1.521968</td>\n",
       "      <td>-142.640686</td>\n",
       "    </tr>\n",
       "    <tr>\n",
       "      <th>2</th>\n",
       "      <td>0.698118</td>\n",
       "      <td>-0.175822</td>\n",
       "      <td>-31.037754</td>\n",
       "    </tr>\n",
       "    <tr>\n",
       "      <th>3</th>\n",
       "      <td>-0.459578</td>\n",
       "      <td>1.362832</td>\n",
       "      <td>81.200693</td>\n",
       "    </tr>\n",
       "    <tr>\n",
       "      <th>4</th>\n",
       "      <td>-1.756428</td>\n",
       "      <td>-0.822486</td>\n",
       "      <td>-159.426001</td>\n",
       "    </tr>\n",
       "  </tbody>\n",
       "</table>\n",
       "</div>"
      ],
      "text/plain": [
       "   feature1  feature2      target\n",
       "0  1.330556 -1.646070   -5.411787\n",
       "1  1.685005 -1.521968 -142.640686\n",
       "2  0.698118 -0.175822  -31.037754\n",
       "3 -0.459578  1.362832   81.200693\n",
       "4 -1.756428 -0.822486 -159.426001"
      ]
     },
     "execution_count": 4,
     "metadata": {},
     "output_type": "execute_result"
    }
   ],
   "source": [
    "df.head()"
   ]
  },
  {
   "cell_type": "code",
   "execution_count": 5,
   "id": "037fd5e3",
   "metadata": {},
   "outputs": [
    {
     "data": {
      "application/vnd.plotly.v1+json": {
       "config": {
        "plotlyServerURL": "https://plot.ly"
       },
       "data": [
        {
         "hovertemplate": "feature1=%{x}<br>feature2=%{y}<br>target=%{z}<extra></extra>",
         "legendgroup": "",
         "marker": {
          "color": "#636efa",
          "symbol": "circle"
         },
         "mode": "markers",
         "name": "",
         "scene": "scene",
         "showlegend": false,
         "type": "scatter3d",
         "x": [
          1.3305555530604491,
          1.6850046653383552,
          0.6981175916612072,
          -0.4595781129329843,
          -1.756427929098978,
          1.2547059046865536,
          -0.5776088151481176,
          0.03846898932817137,
          -0.1838510280303275,
          1.3294297482608672,
          0.7175317726895915,
          0.5784582035712521,
          0.04348813774689677,
          -0.1231790220799983,
          -0.7554641415586918,
          1.3538016705167297,
          0.6581181598446579,
          0.08042386281646338,
          0.3599825436741974,
          -0.7616747801044738,
          0.7533745194380536,
          0.009981185031540905,
          -1.3208109851864698,
          -0.8903065779011291,
          -1.1365523575312202,
          -1.4266175802397023,
          1.5591492011352097,
          0.119096599257766,
          -1.109528438741391,
          -1.7291392152263032,
          1.6161502264131058,
          0.07550762244112065,
          0.08864539474090442,
          -1.5816985859433752,
          -0.40652582732276105,
          0.1035134785584543,
          0.785084118958565,
          0.2907268565414322,
          0.4904470244067262,
          0.463661924445207,
          -1.039316502356661,
          -1.2923494401798292,
          0.8078532823215562,
          0.8810927422193948,
          1.3820297105814072,
          0.13824013010715472,
          -0.4150504402938629,
          -0.5826158402376626,
          0.30204984217927583,
          -0.11678340362356635,
          0.8005486990334557,
          -0.5911514348665392,
          -1.7110226051549675,
          0.24501520749408595,
          -0.06907924975570506,
          -1.7716515818566612,
          -1.0062185822238674,
          -0.3783352404199135,
          -2.9824956864639374,
          -1.7936978552818295,
          0.29374149176725617,
          -2.3703213902709743,
          0.5729649008111657,
          -0.5952949395332109,
          0.3137719503456439,
          0.9333864600355912,
          -0.37452357680546955,
          0.2869078723915674,
          -0.26374132267728284,
          -1.5112853146667227,
          1.8832373046239268,
          1.439539133767775,
          0.03242930910395542,
          -0.5360105633483077,
          0.3082723732469076,
          0.5716661923279726,
          -0.2855238680971258,
          0.43023335625835235,
          -2.636492610339449,
          0.2903408461645305,
          -0.03021287975824092,
          0.15826814025881425,
          -0.6858878021334757,
          0.06799897584703431,
          1.4778210587534615,
          -0.3422303226100848,
          1.5076451665765291,
          -0.37416033605134863,
          0.17819817830145765,
          -0.007733191937619319,
          -1.397126722210833,
          0.6550205576776431,
          0.4474766644003432,
          0.005797356781384345,
          -1.0165050148428758,
          -1.0049981851586987,
          -2.551780857278474,
          -0.2345091627723486,
          0.21286884794477773,
          1.0421987998177638
         ],
         "y": [
          -1.6460700504816812,
          -1.5219678206594314,
          -0.17582183058703657,
          1.3628315904523434,
          -0.8224861559872677,
          1.6354279711793362,
          0.25207820722905483,
          0.3009604124915946,
          1.357849648536321,
          0.19983905024112775,
          -1.4297511322532874,
          0.31523276363678654,
          -1.0100124126205168,
          0.002682277750081284,
          -1.2016143853134393,
          1.5940728045112602,
          -1.4207697078543424,
          -0.9150566686122857,
          0.9530231198288239,
          1.1792623831385678,
          0.8212156935860812,
          1.3050350081065445,
          2.057754950349158,
          -1.9736741628172072,
          -2.515397533073411,
          -0.9485885303473585,
          -0.6258556718947434,
          -0.714785290511536,
          1.2793590961825787,
          0.275808512103316,
          1.005547646109948,
          0.9397779642288737,
          -0.40260764973736163,
          0.2942254252846205,
          0.01534724713596753,
          1.451023075747657,
          0.27438743448302194,
          0.026202402111392662,
          -2.4293075371899957,
          1.607057003841404,
          -0.42610182378056094,
          -0.47129382797010694,
          0.04702336547464276,
          -0.4265968885440055,
          -0.05018603259288451,
          0.051216590498580544,
          0.9795581930629307,
          -2.1289782153931096,
          -0.3357320277626545,
          0.385174006472576,
          -1.1142097604991645,
          -0.3712245343971767,
          0.6820843185131383,
          -0.7692193518655195,
          -1.5189317052580056,
          0.16298873708419756,
          1.510015131102795,
          0.450367295504239,
          -0.49716140678194914,
          -0.7611322789586565,
          1.8632226866606207,
          -0.5374473451644363,
          0.016473674679494184,
          -0.259176770712355,
          0.5001995750812569,
          -0.996358852435277,
          1.965986625814094,
          1.0102996794253003,
          0.2457710516041011,
          0.4686884062225822,
          -0.3967248115050825,
          -0.34657418590451144,
          0.8686761265170236,
          1.068999853948752,
          1.5690664960347978,
          0.5924605017586991,
          -1.810810266542312,
          1.4901261445989853,
          -0.5757157280331998,
          -1.3337325310038282,
          0.21395298090214307,
          -0.48812377214767755,
          -1.7464441530761443,
          -1.1716085914511538,
          -0.02553308563255065,
          0.7393651132925688,
          -0.8779293028061199,
          0.3211457490610928,
          -0.6277550923263159,
          0.36957352390765075,
          -0.9335529390615389,
          0.7177766887144715,
          0.8484460815883293,
          1.205006707784695,
          1.6791739091286086,
          0.23060254206459974,
          0.28309267673045513,
          0.6530656263951129,
          0.999149476623787,
          0.8088949702338916
         ],
         "z": [
          -5.411786916529692,
          -142.64068552795453,
          -31.037753583844726,
          81.20069261537343,
          -159.426000637666,
          108.51776659176878,
          -11.41952167819053,
          77.6394796170323,
          53.636846184386144,
          39.38884816468335,
          -15.186006517860932,
          135.391939209052,
          -49.82045737465651,
          -3.6119484661564796,
          -40.80040777074559,
          167.77571356893634,
          -64.77358087728227,
          -72.00022238392916,
          110.13949273662844,
          67.58283082341342,
          118.9453991712374,
          109.64954741129553,
          137.3848069387994,
          -131.51154786913622,
          -203.385135993031,
          -39.43820351849131,
          -48.96770736970316,
          23.230696891555127,
          100.00157459637043,
          -57.14814506054792,
          69.35349684366187,
          143.88460523399976,
          -66.52715437077242,
          -13.748304675990802,
          120.12027549973298,
          149.60952160907996,
          19.635831662036168,
          24.56869256431277,
          -175.18159897213616,
          88.45510410665192,
          -30.333921513420904,
          -28.54881359580991,
          133.36270496580718,
          -38.54080024870234,
          -101.16158190690314,
          74.41293915280811,
          70.03525126901238,
          -169.00431176123067,
          -74.56238843036701,
          22.82512330292926,
          -87.05115628275885,
          45.79658405960143,
          21.228115504076236,
          -47.910055742765906,
          -134.85176840609844,
          82.62529142485849,
          143.29573022852958,
          70.44391206084032,
          9.648807441468747,
          -67.80607784833904,
          134.3474130662209,
          -132.41514562732377,
          -14.066953529990455,
          29.289111396290856,
          -25.86499537692326,
          36.34424899558717,
          72.73736995276758,
          159.7398807042611,
          -26.01918342390744,
          -30.859817889992886,
          -66.0854880232527,
          -78.48708212184003,
          130.81055543578867,
          58.588006342884185,
          28.422199953617707,
          17.97386152845274,
          -189.37476762325775,
          50.09522110002194,
          -110.56332917606869,
          -66.99098620867227,
          24.917678875185587,
          46.04555170103381,
          -85.78346018778572,
          -26.421635134187284,
          45.20298127147219,
          20.153477417259214,
          -33.12232071038067,
          23.793387690813134,
          -99.14074814624183,
          -25.817670822053305,
          -127.92473038378188,
          -39.40610085648925,
          40.728360545335605,
          90.16843515425089,
          82.66459952301379,
          102.45616102031627,
          47.2303919542529,
          37.12803190799135,
          22.454067117604183,
          18.38228104256803
         ]
        }
       ],
       "layout": {
        "legend": {
         "tracegroupgap": 0
        },
        "margin": {
         "t": 60
        },
        "scene": {
         "domain": {
          "x": [
           0,
           1
          ],
          "y": [
           0,
           1
          ]
         },
         "xaxis": {
          "title": {
           "text": "feature1"
          }
         },
         "yaxis": {
          "title": {
           "text": "feature2"
          }
         },
         "zaxis": {
          "title": {
           "text": "target"
          }
         }
        },
        "template": {
         "data": {
          "bar": [
           {
            "error_x": {
             "color": "#2a3f5f"
            },
            "error_y": {
             "color": "#2a3f5f"
            },
            "marker": {
             "line": {
              "color": "#E5ECF6",
              "width": 0.5
             },
             "pattern": {
              "fillmode": "overlay",
              "size": 10,
              "solidity": 0.2
             }
            },
            "type": "bar"
           }
          ],
          "barpolar": [
           {
            "marker": {
             "line": {
              "color": "#E5ECF6",
              "width": 0.5
             },
             "pattern": {
              "fillmode": "overlay",
              "size": 10,
              "solidity": 0.2
             }
            },
            "type": "barpolar"
           }
          ],
          "carpet": [
           {
            "aaxis": {
             "endlinecolor": "#2a3f5f",
             "gridcolor": "white",
             "linecolor": "white",
             "minorgridcolor": "white",
             "startlinecolor": "#2a3f5f"
            },
            "baxis": {
             "endlinecolor": "#2a3f5f",
             "gridcolor": "white",
             "linecolor": "white",
             "minorgridcolor": "white",
             "startlinecolor": "#2a3f5f"
            },
            "type": "carpet"
           }
          ],
          "choropleth": [
           {
            "colorbar": {
             "outlinewidth": 0,
             "ticks": ""
            },
            "type": "choropleth"
           }
          ],
          "contour": [
           {
            "colorbar": {
             "outlinewidth": 0,
             "ticks": ""
            },
            "colorscale": [
             [
              0,
              "#0d0887"
             ],
             [
              0.1111111111111111,
              "#46039f"
             ],
             [
              0.2222222222222222,
              "#7201a8"
             ],
             [
              0.3333333333333333,
              "#9c179e"
             ],
             [
              0.4444444444444444,
              "#bd3786"
             ],
             [
              0.5555555555555556,
              "#d8576b"
             ],
             [
              0.6666666666666666,
              "#ed7953"
             ],
             [
              0.7777777777777778,
              "#fb9f3a"
             ],
             [
              0.8888888888888888,
              "#fdca26"
             ],
             [
              1,
              "#f0f921"
             ]
            ],
            "type": "contour"
           }
          ],
          "contourcarpet": [
           {
            "colorbar": {
             "outlinewidth": 0,
             "ticks": ""
            },
            "type": "contourcarpet"
           }
          ],
          "heatmap": [
           {
            "colorbar": {
             "outlinewidth": 0,
             "ticks": ""
            },
            "colorscale": [
             [
              0,
              "#0d0887"
             ],
             [
              0.1111111111111111,
              "#46039f"
             ],
             [
              0.2222222222222222,
              "#7201a8"
             ],
             [
              0.3333333333333333,
              "#9c179e"
             ],
             [
              0.4444444444444444,
              "#bd3786"
             ],
             [
              0.5555555555555556,
              "#d8576b"
             ],
             [
              0.6666666666666666,
              "#ed7953"
             ],
             [
              0.7777777777777778,
              "#fb9f3a"
             ],
             [
              0.8888888888888888,
              "#fdca26"
             ],
             [
              1,
              "#f0f921"
             ]
            ],
            "type": "heatmap"
           }
          ],
          "heatmapgl": [
           {
            "colorbar": {
             "outlinewidth": 0,
             "ticks": ""
            },
            "colorscale": [
             [
              0,
              "#0d0887"
             ],
             [
              0.1111111111111111,
              "#46039f"
             ],
             [
              0.2222222222222222,
              "#7201a8"
             ],
             [
              0.3333333333333333,
              "#9c179e"
             ],
             [
              0.4444444444444444,
              "#bd3786"
             ],
             [
              0.5555555555555556,
              "#d8576b"
             ],
             [
              0.6666666666666666,
              "#ed7953"
             ],
             [
              0.7777777777777778,
              "#fb9f3a"
             ],
             [
              0.8888888888888888,
              "#fdca26"
             ],
             [
              1,
              "#f0f921"
             ]
            ],
            "type": "heatmapgl"
           }
          ],
          "histogram": [
           {
            "marker": {
             "pattern": {
              "fillmode": "overlay",
              "size": 10,
              "solidity": 0.2
             }
            },
            "type": "histogram"
           }
          ],
          "histogram2d": [
           {
            "colorbar": {
             "outlinewidth": 0,
             "ticks": ""
            },
            "colorscale": [
             [
              0,
              "#0d0887"
             ],
             [
              0.1111111111111111,
              "#46039f"
             ],
             [
              0.2222222222222222,
              "#7201a8"
             ],
             [
              0.3333333333333333,
              "#9c179e"
             ],
             [
              0.4444444444444444,
              "#bd3786"
             ],
             [
              0.5555555555555556,
              "#d8576b"
             ],
             [
              0.6666666666666666,
              "#ed7953"
             ],
             [
              0.7777777777777778,
              "#fb9f3a"
             ],
             [
              0.8888888888888888,
              "#fdca26"
             ],
             [
              1,
              "#f0f921"
             ]
            ],
            "type": "histogram2d"
           }
          ],
          "histogram2dcontour": [
           {
            "colorbar": {
             "outlinewidth": 0,
             "ticks": ""
            },
            "colorscale": [
             [
              0,
              "#0d0887"
             ],
             [
              0.1111111111111111,
              "#46039f"
             ],
             [
              0.2222222222222222,
              "#7201a8"
             ],
             [
              0.3333333333333333,
              "#9c179e"
             ],
             [
              0.4444444444444444,
              "#bd3786"
             ],
             [
              0.5555555555555556,
              "#d8576b"
             ],
             [
              0.6666666666666666,
              "#ed7953"
             ],
             [
              0.7777777777777778,
              "#fb9f3a"
             ],
             [
              0.8888888888888888,
              "#fdca26"
             ],
             [
              1,
              "#f0f921"
             ]
            ],
            "type": "histogram2dcontour"
           }
          ],
          "mesh3d": [
           {
            "colorbar": {
             "outlinewidth": 0,
             "ticks": ""
            },
            "type": "mesh3d"
           }
          ],
          "parcoords": [
           {
            "line": {
             "colorbar": {
              "outlinewidth": 0,
              "ticks": ""
             }
            },
            "type": "parcoords"
           }
          ],
          "pie": [
           {
            "automargin": true,
            "type": "pie"
           }
          ],
          "scatter": [
           {
            "fillpattern": {
             "fillmode": "overlay",
             "size": 10,
             "solidity": 0.2
            },
            "type": "scatter"
           }
          ],
          "scatter3d": [
           {
            "line": {
             "colorbar": {
              "outlinewidth": 0,
              "ticks": ""
             }
            },
            "marker": {
             "colorbar": {
              "outlinewidth": 0,
              "ticks": ""
             }
            },
            "type": "scatter3d"
           }
          ],
          "scattercarpet": [
           {
            "marker": {
             "colorbar": {
              "outlinewidth": 0,
              "ticks": ""
             }
            },
            "type": "scattercarpet"
           }
          ],
          "scattergeo": [
           {
            "marker": {
             "colorbar": {
              "outlinewidth": 0,
              "ticks": ""
             }
            },
            "type": "scattergeo"
           }
          ],
          "scattergl": [
           {
            "marker": {
             "colorbar": {
              "outlinewidth": 0,
              "ticks": ""
             }
            },
            "type": "scattergl"
           }
          ],
          "scattermapbox": [
           {
            "marker": {
             "colorbar": {
              "outlinewidth": 0,
              "ticks": ""
             }
            },
            "type": "scattermapbox"
           }
          ],
          "scatterpolar": [
           {
            "marker": {
             "colorbar": {
              "outlinewidth": 0,
              "ticks": ""
             }
            },
            "type": "scatterpolar"
           }
          ],
          "scatterpolargl": [
           {
            "marker": {
             "colorbar": {
              "outlinewidth": 0,
              "ticks": ""
             }
            },
            "type": "scatterpolargl"
           }
          ],
          "scatterternary": [
           {
            "marker": {
             "colorbar": {
              "outlinewidth": 0,
              "ticks": ""
             }
            },
            "type": "scatterternary"
           }
          ],
          "surface": [
           {
            "colorbar": {
             "outlinewidth": 0,
             "ticks": ""
            },
            "colorscale": [
             [
              0,
              "#0d0887"
             ],
             [
              0.1111111111111111,
              "#46039f"
             ],
             [
              0.2222222222222222,
              "#7201a8"
             ],
             [
              0.3333333333333333,
              "#9c179e"
             ],
             [
              0.4444444444444444,
              "#bd3786"
             ],
             [
              0.5555555555555556,
              "#d8576b"
             ],
             [
              0.6666666666666666,
              "#ed7953"
             ],
             [
              0.7777777777777778,
              "#fb9f3a"
             ],
             [
              0.8888888888888888,
              "#fdca26"
             ],
             [
              1,
              "#f0f921"
             ]
            ],
            "type": "surface"
           }
          ],
          "table": [
           {
            "cells": {
             "fill": {
              "color": "#EBF0F8"
             },
             "line": {
              "color": "white"
             }
            },
            "header": {
             "fill": {
              "color": "#C8D4E3"
             },
             "line": {
              "color": "white"
             }
            },
            "type": "table"
           }
          ]
         },
         "layout": {
          "annotationdefaults": {
           "arrowcolor": "#2a3f5f",
           "arrowhead": 0,
           "arrowwidth": 1
          },
          "autotypenumbers": "strict",
          "coloraxis": {
           "colorbar": {
            "outlinewidth": 0,
            "ticks": ""
           }
          },
          "colorscale": {
           "diverging": [
            [
             0,
             "#8e0152"
            ],
            [
             0.1,
             "#c51b7d"
            ],
            [
             0.2,
             "#de77ae"
            ],
            [
             0.3,
             "#f1b6da"
            ],
            [
             0.4,
             "#fde0ef"
            ],
            [
             0.5,
             "#f7f7f7"
            ],
            [
             0.6,
             "#e6f5d0"
            ],
            [
             0.7,
             "#b8e186"
            ],
            [
             0.8,
             "#7fbc41"
            ],
            [
             0.9,
             "#4d9221"
            ],
            [
             1,
             "#276419"
            ]
           ],
           "sequential": [
            [
             0,
             "#0d0887"
            ],
            [
             0.1111111111111111,
             "#46039f"
            ],
            [
             0.2222222222222222,
             "#7201a8"
            ],
            [
             0.3333333333333333,
             "#9c179e"
            ],
            [
             0.4444444444444444,
             "#bd3786"
            ],
            [
             0.5555555555555556,
             "#d8576b"
            ],
            [
             0.6666666666666666,
             "#ed7953"
            ],
            [
             0.7777777777777778,
             "#fb9f3a"
            ],
            [
             0.8888888888888888,
             "#fdca26"
            ],
            [
             1,
             "#f0f921"
            ]
           ],
           "sequentialminus": [
            [
             0,
             "#0d0887"
            ],
            [
             0.1111111111111111,
             "#46039f"
            ],
            [
             0.2222222222222222,
             "#7201a8"
            ],
            [
             0.3333333333333333,
             "#9c179e"
            ],
            [
             0.4444444444444444,
             "#bd3786"
            ],
            [
             0.5555555555555556,
             "#d8576b"
            ],
            [
             0.6666666666666666,
             "#ed7953"
            ],
            [
             0.7777777777777778,
             "#fb9f3a"
            ],
            [
             0.8888888888888888,
             "#fdca26"
            ],
            [
             1,
             "#f0f921"
            ]
           ]
          },
          "colorway": [
           "#636efa",
           "#EF553B",
           "#00cc96",
           "#ab63fa",
           "#FFA15A",
           "#19d3f3",
           "#FF6692",
           "#B6E880",
           "#FF97FF",
           "#FECB52"
          ],
          "font": {
           "color": "#2a3f5f"
          },
          "geo": {
           "bgcolor": "white",
           "lakecolor": "white",
           "landcolor": "#E5ECF6",
           "showlakes": true,
           "showland": true,
           "subunitcolor": "white"
          },
          "hoverlabel": {
           "align": "left"
          },
          "hovermode": "closest",
          "mapbox": {
           "style": "light"
          },
          "paper_bgcolor": "white",
          "plot_bgcolor": "#E5ECF6",
          "polar": {
           "angularaxis": {
            "gridcolor": "white",
            "linecolor": "white",
            "ticks": ""
           },
           "bgcolor": "#E5ECF6",
           "radialaxis": {
            "gridcolor": "white",
            "linecolor": "white",
            "ticks": ""
           }
          },
          "scene": {
           "xaxis": {
            "backgroundcolor": "#E5ECF6",
            "gridcolor": "white",
            "gridwidth": 2,
            "linecolor": "white",
            "showbackground": true,
            "ticks": "",
            "zerolinecolor": "white"
           },
           "yaxis": {
            "backgroundcolor": "#E5ECF6",
            "gridcolor": "white",
            "gridwidth": 2,
            "linecolor": "white",
            "showbackground": true,
            "ticks": "",
            "zerolinecolor": "white"
           },
           "zaxis": {
            "backgroundcolor": "#E5ECF6",
            "gridcolor": "white",
            "gridwidth": 2,
            "linecolor": "white",
            "showbackground": true,
            "ticks": "",
            "zerolinecolor": "white"
           }
          },
          "shapedefaults": {
           "line": {
            "color": "#2a3f5f"
           }
          },
          "ternary": {
           "aaxis": {
            "gridcolor": "white",
            "linecolor": "white",
            "ticks": ""
           },
           "baxis": {
            "gridcolor": "white",
            "linecolor": "white",
            "ticks": ""
           },
           "bgcolor": "#E5ECF6",
           "caxis": {
            "gridcolor": "white",
            "linecolor": "white",
            "ticks": ""
           }
          },
          "title": {
           "x": 0.05
          },
          "xaxis": {
           "automargin": true,
           "gridcolor": "white",
           "linecolor": "white",
           "ticks": "",
           "title": {
            "standoff": 15
           },
           "zerolinecolor": "white",
           "zerolinewidth": 2
          },
          "yaxis": {
           "automargin": true,
           "gridcolor": "white",
           "linecolor": "white",
           "ticks": "",
           "title": {
            "standoff": 15
           },
           "zerolinecolor": "white",
           "zerolinewidth": 2
          }
         }
        }
       }
      }
     },
     "metadata": {},
     "output_type": "display_data"
    }
   ],
   "source": [
    "fig = px.scatter_3d(df, x='feature1', y='feature2', z='target')\n",
    "\n",
    "fig.show()"
   ]
  },
  {
   "cell_type": "code",
   "execution_count": 6,
   "id": "82d2dde6",
   "metadata": {},
   "outputs": [],
   "source": [
    "from sklearn.model_selection import train_test_split\n",
    "\n",
    "X_train, X_test, y_train, y_test = train_test_split(X, y, test_size=0.2, random_state=3)"
   ]
  },
  {
   "cell_type": "code",
   "execution_count": 7,
   "id": "dfc37334",
   "metadata": {},
   "outputs": [
    {
     "data": {
      "text/html": [
       "<style>#sk-container-id-1 {color: black;background-color: white;}#sk-container-id-1 pre{padding: 0;}#sk-container-id-1 div.sk-toggleable {background-color: white;}#sk-container-id-1 label.sk-toggleable__label {cursor: pointer;display: block;width: 100%;margin-bottom: 0;padding: 0.3em;box-sizing: border-box;text-align: center;}#sk-container-id-1 label.sk-toggleable__label-arrow:before {content: \"▸\";float: left;margin-right: 0.25em;color: #696969;}#sk-container-id-1 label.sk-toggleable__label-arrow:hover:before {color: black;}#sk-container-id-1 div.sk-estimator:hover label.sk-toggleable__label-arrow:before {color: black;}#sk-container-id-1 div.sk-toggleable__content {max-height: 0;max-width: 0;overflow: hidden;text-align: left;background-color: #f0f8ff;}#sk-container-id-1 div.sk-toggleable__content pre {margin: 0.2em;color: black;border-radius: 0.25em;background-color: #f0f8ff;}#sk-container-id-1 input.sk-toggleable__control:checked~div.sk-toggleable__content {max-height: 200px;max-width: 100%;overflow: auto;}#sk-container-id-1 input.sk-toggleable__control:checked~label.sk-toggleable__label-arrow:before {content: \"▾\";}#sk-container-id-1 div.sk-estimator input.sk-toggleable__control:checked~label.sk-toggleable__label {background-color: #d4ebff;}#sk-container-id-1 div.sk-label input.sk-toggleable__control:checked~label.sk-toggleable__label {background-color: #d4ebff;}#sk-container-id-1 input.sk-hidden--visually {border: 0;clip: rect(1px 1px 1px 1px);clip: rect(1px, 1px, 1px, 1px);height: 1px;margin: -1px;overflow: hidden;padding: 0;position: absolute;width: 1px;}#sk-container-id-1 div.sk-estimator {font-family: monospace;background-color: #f0f8ff;border: 1px dotted black;border-radius: 0.25em;box-sizing: border-box;margin-bottom: 0.5em;}#sk-container-id-1 div.sk-estimator:hover {background-color: #d4ebff;}#sk-container-id-1 div.sk-parallel-item::after {content: \"\";width: 100%;border-bottom: 1px solid gray;flex-grow: 1;}#sk-container-id-1 div.sk-label:hover label.sk-toggleable__label {background-color: #d4ebff;}#sk-container-id-1 div.sk-serial::before {content: \"\";position: absolute;border-left: 1px solid gray;box-sizing: border-box;top: 0;bottom: 0;left: 50%;z-index: 0;}#sk-container-id-1 div.sk-serial {display: flex;flex-direction: column;align-items: center;background-color: white;padding-right: 0.2em;padding-left: 0.2em;position: relative;}#sk-container-id-1 div.sk-item {position: relative;z-index: 1;}#sk-container-id-1 div.sk-parallel {display: flex;align-items: stretch;justify-content: center;background-color: white;position: relative;}#sk-container-id-1 div.sk-item::before, #sk-container-id-1 div.sk-parallel-item::before {content: \"\";position: absolute;border-left: 1px solid gray;box-sizing: border-box;top: 0;bottom: 0;left: 50%;z-index: -1;}#sk-container-id-1 div.sk-parallel-item {display: flex;flex-direction: column;z-index: 1;position: relative;background-color: white;}#sk-container-id-1 div.sk-parallel-item:first-child::after {align-self: flex-end;width: 50%;}#sk-container-id-1 div.sk-parallel-item:last-child::after {align-self: flex-start;width: 50%;}#sk-container-id-1 div.sk-parallel-item:only-child::after {width: 0;}#sk-container-id-1 div.sk-dashed-wrapped {border: 1px dashed gray;margin: 0 0.4em 0.5em 0.4em;box-sizing: border-box;padding-bottom: 0.4em;background-color: white;}#sk-container-id-1 div.sk-label label {font-family: monospace;font-weight: bold;display: inline-block;line-height: 1.2em;}#sk-container-id-1 div.sk-label-container {text-align: center;}#sk-container-id-1 div.sk-container {/* jupyter's `normalize.less` sets `[hidden] { display: none; }` but bootstrap.min.css set `[hidden] { display: none !important; }` so we also need the `!important` here to be able to override the default hidden behavior on the sphinx rendered scikit-learn.org. See: https://github.com/scikit-learn/scikit-learn/issues/21755 */display: inline-block !important;position: relative;}#sk-container-id-1 div.sk-text-repr-fallback {display: none;}</style><div id=\"sk-container-id-1\" class=\"sk-top-container\"><div class=\"sk-text-repr-fallback\"><pre>LinearRegression()</pre><b>In a Jupyter environment, please rerun this cell to show the HTML representation or trust the notebook. <br />On GitHub, the HTML representation is unable to render, please try loading this page with nbviewer.org.</b></div><div class=\"sk-container\" hidden><div class=\"sk-item\"><div class=\"sk-estimator sk-toggleable\"><input class=\"sk-toggleable__control sk-hidden--visually\" id=\"sk-estimator-id-1\" type=\"checkbox\" checked><label for=\"sk-estimator-id-1\" class=\"sk-toggleable__label sk-toggleable__label-arrow\">LinearRegression</label><div class=\"sk-toggleable__content\"><pre>LinearRegression()</pre></div></div></div></div></div>"
      ],
      "text/plain": [
       "LinearRegression()"
      ]
     },
     "execution_count": 7,
     "metadata": {},
     "output_type": "execute_result"
    }
   ],
   "source": [
    "from sklearn.linear_model import LinearRegression\n",
    "\n",
    "lr = LinearRegression()\n",
    "lr.fit(X_train, y_train)"
   ]
  },
  {
   "cell_type": "code",
   "execution_count": 8,
   "id": "6d9bd572",
   "metadata": {},
   "outputs": [],
   "source": [
    "y_pred = lr.predict(X_test)"
   ]
  },
  {
   "cell_type": "code",
   "execution_count": 9,
   "id": "9f635585",
   "metadata": {},
   "outputs": [
    {
     "name": "stdout",
     "output_type": "stream",
     "text": [
      "MAE :  47.4539346509583\n",
      "MSE :  3425.1200519274826\n",
      "R2 square :  0.49012625968481605\n"
     ]
    }
   ],
   "source": [
    "print('MAE : ', mean_absolute_error(y_test, y_pred))\n",
    "print('MSE : ', mean_squared_error(y_test, y_pred))\n",
    "print('R2 square : ', r2_score(y_test, y_pred))"
   ]
  },
  {
   "cell_type": "code",
   "execution_count": 10,
   "id": "1c3582c2",
   "metadata": {},
   "outputs": [],
   "source": [
    "x = np.linspace(-5, 5, 10)\n",
    "y = np.linspace(-5, 5, 10)\n",
    "xGrid, yGrid = np.meshgrid(y, x)\n",
    "\n",
    "final = np.vstack((xGrid.ravel().reshape(1,100),yGrid.ravel().reshape(1,100))).T\n",
    "\n",
    "z_final = lr.predict(final).reshape(10,10)\n",
    "\n",
    "z = z_final"
   ]
  },
  {
   "cell_type": "code",
   "execution_count": 11,
   "id": "6c1f594e",
   "metadata": {},
   "outputs": [
    {
     "data": {
      "application/vnd.plotly.v1+json": {
       "config": {
        "plotlyServerURL": "https://plot.ly"
       },
       "data": [
        {
         "hovertemplate": "feature1=%{x}<br>feature2=%{y}<br>target=%{z}<extra></extra>",
         "legendgroup": "",
         "marker": {
          "color": "#636efa",
          "symbol": "circle"
         },
         "mode": "markers",
         "name": "",
         "scene": "scene",
         "showlegend": false,
         "type": "scatter3d",
         "x": [
          1.3305555530604491,
          1.6850046653383552,
          0.6981175916612072,
          -0.4595781129329843,
          -1.756427929098978,
          1.2547059046865536,
          -0.5776088151481176,
          0.03846898932817137,
          -0.1838510280303275,
          1.3294297482608672,
          0.7175317726895915,
          0.5784582035712521,
          0.04348813774689677,
          -0.1231790220799983,
          -0.7554641415586918,
          1.3538016705167297,
          0.6581181598446579,
          0.08042386281646338,
          0.3599825436741974,
          -0.7616747801044738,
          0.7533745194380536,
          0.009981185031540905,
          -1.3208109851864698,
          -0.8903065779011291,
          -1.1365523575312202,
          -1.4266175802397023,
          1.5591492011352097,
          0.119096599257766,
          -1.109528438741391,
          -1.7291392152263032,
          1.6161502264131058,
          0.07550762244112065,
          0.08864539474090442,
          -1.5816985859433752,
          -0.40652582732276105,
          0.1035134785584543,
          0.785084118958565,
          0.2907268565414322,
          0.4904470244067262,
          0.463661924445207,
          -1.039316502356661,
          -1.2923494401798292,
          0.8078532823215562,
          0.8810927422193948,
          1.3820297105814072,
          0.13824013010715472,
          -0.4150504402938629,
          -0.5826158402376626,
          0.30204984217927583,
          -0.11678340362356635,
          0.8005486990334557,
          -0.5911514348665392,
          -1.7110226051549675,
          0.24501520749408595,
          -0.06907924975570506,
          -1.7716515818566612,
          -1.0062185822238674,
          -0.3783352404199135,
          -2.9824956864639374,
          -1.7936978552818295,
          0.29374149176725617,
          -2.3703213902709743,
          0.5729649008111657,
          -0.5952949395332109,
          0.3137719503456439,
          0.9333864600355912,
          -0.37452357680546955,
          0.2869078723915674,
          -0.26374132267728284,
          -1.5112853146667227,
          1.8832373046239268,
          1.439539133767775,
          0.03242930910395542,
          -0.5360105633483077,
          0.3082723732469076,
          0.5716661923279726,
          -0.2855238680971258,
          0.43023335625835235,
          -2.636492610339449,
          0.2903408461645305,
          -0.03021287975824092,
          0.15826814025881425,
          -0.6858878021334757,
          0.06799897584703431,
          1.4778210587534615,
          -0.3422303226100848,
          1.5076451665765291,
          -0.37416033605134863,
          0.17819817830145765,
          -0.007733191937619319,
          -1.397126722210833,
          0.6550205576776431,
          0.4474766644003432,
          0.005797356781384345,
          -1.0165050148428758,
          -1.0049981851586987,
          -2.551780857278474,
          -0.2345091627723486,
          0.21286884794477773,
          1.0421987998177638
         ],
         "y": [
          -1.6460700504816812,
          -1.5219678206594314,
          -0.17582183058703657,
          1.3628315904523434,
          -0.8224861559872677,
          1.6354279711793362,
          0.25207820722905483,
          0.3009604124915946,
          1.357849648536321,
          0.19983905024112775,
          -1.4297511322532874,
          0.31523276363678654,
          -1.0100124126205168,
          0.002682277750081284,
          -1.2016143853134393,
          1.5940728045112602,
          -1.4207697078543424,
          -0.9150566686122857,
          0.9530231198288239,
          1.1792623831385678,
          0.8212156935860812,
          1.3050350081065445,
          2.057754950349158,
          -1.9736741628172072,
          -2.515397533073411,
          -0.9485885303473585,
          -0.6258556718947434,
          -0.714785290511536,
          1.2793590961825787,
          0.275808512103316,
          1.005547646109948,
          0.9397779642288737,
          -0.40260764973736163,
          0.2942254252846205,
          0.01534724713596753,
          1.451023075747657,
          0.27438743448302194,
          0.026202402111392662,
          -2.4293075371899957,
          1.607057003841404,
          -0.42610182378056094,
          -0.47129382797010694,
          0.04702336547464276,
          -0.4265968885440055,
          -0.05018603259288451,
          0.051216590498580544,
          0.9795581930629307,
          -2.1289782153931096,
          -0.3357320277626545,
          0.385174006472576,
          -1.1142097604991645,
          -0.3712245343971767,
          0.6820843185131383,
          -0.7692193518655195,
          -1.5189317052580056,
          0.16298873708419756,
          1.510015131102795,
          0.450367295504239,
          -0.49716140678194914,
          -0.7611322789586565,
          1.8632226866606207,
          -0.5374473451644363,
          0.016473674679494184,
          -0.259176770712355,
          0.5001995750812569,
          -0.996358852435277,
          1.965986625814094,
          1.0102996794253003,
          0.2457710516041011,
          0.4686884062225822,
          -0.3967248115050825,
          -0.34657418590451144,
          0.8686761265170236,
          1.068999853948752,
          1.5690664960347978,
          0.5924605017586991,
          -1.810810266542312,
          1.4901261445989853,
          -0.5757157280331998,
          -1.3337325310038282,
          0.21395298090214307,
          -0.48812377214767755,
          -1.7464441530761443,
          -1.1716085914511538,
          -0.02553308563255065,
          0.7393651132925688,
          -0.8779293028061199,
          0.3211457490610928,
          -0.6277550923263159,
          0.36957352390765075,
          -0.9335529390615389,
          0.7177766887144715,
          0.8484460815883293,
          1.205006707784695,
          1.6791739091286086,
          0.23060254206459974,
          0.28309267673045513,
          0.6530656263951129,
          0.999149476623787,
          0.8088949702338916
         ],
         "z": [
          -5.411786916529692,
          -142.64068552795453,
          -31.037753583844726,
          81.20069261537343,
          -159.426000637666,
          108.51776659176878,
          -11.41952167819053,
          77.6394796170323,
          53.636846184386144,
          39.38884816468335,
          -15.186006517860932,
          135.391939209052,
          -49.82045737465651,
          -3.6119484661564796,
          -40.80040777074559,
          167.77571356893634,
          -64.77358087728227,
          -72.00022238392916,
          110.13949273662844,
          67.58283082341342,
          118.9453991712374,
          109.64954741129553,
          137.3848069387994,
          -131.51154786913622,
          -203.385135993031,
          -39.43820351849131,
          -48.96770736970316,
          23.230696891555127,
          100.00157459637043,
          -57.14814506054792,
          69.35349684366187,
          143.88460523399976,
          -66.52715437077242,
          -13.748304675990802,
          120.12027549973298,
          149.60952160907996,
          19.635831662036168,
          24.56869256431277,
          -175.18159897213616,
          88.45510410665192,
          -30.333921513420904,
          -28.54881359580991,
          133.36270496580718,
          -38.54080024870234,
          -101.16158190690314,
          74.41293915280811,
          70.03525126901238,
          -169.00431176123067,
          -74.56238843036701,
          22.82512330292926,
          -87.05115628275885,
          45.79658405960143,
          21.228115504076236,
          -47.910055742765906,
          -134.85176840609844,
          82.62529142485849,
          143.29573022852958,
          70.44391206084032,
          9.648807441468747,
          -67.80607784833904,
          134.3474130662209,
          -132.41514562732377,
          -14.066953529990455,
          29.289111396290856,
          -25.86499537692326,
          36.34424899558717,
          72.73736995276758,
          159.7398807042611,
          -26.01918342390744,
          -30.859817889992886,
          -66.0854880232527,
          -78.48708212184003,
          130.81055543578867,
          58.588006342884185,
          28.422199953617707,
          17.97386152845274,
          -189.37476762325775,
          50.09522110002194,
          -110.56332917606869,
          -66.99098620867227,
          24.917678875185587,
          46.04555170103381,
          -85.78346018778572,
          -26.421635134187284,
          45.20298127147219,
          20.153477417259214,
          -33.12232071038067,
          23.793387690813134,
          -99.14074814624183,
          -25.817670822053305,
          -127.92473038378188,
          -39.40610085648925,
          40.728360545335605,
          90.16843515425089,
          82.66459952301379,
          102.45616102031627,
          47.2303919542529,
          37.12803190799135,
          22.454067117604183,
          18.38228104256803
         ]
        },
        {
         "type": "surface",
         "x": [
          -5,
          -3.888888888888889,
          -2.7777777777777777,
          -1.6666666666666665,
          -0.5555555555555554,
          0.5555555555555554,
          1.666666666666667,
          2.7777777777777786,
          3.8888888888888893,
          5
         ],
         "y": [
          -5,
          -3.888888888888889,
          -2.7777777777777777,
          -1.6666666666666665,
          -0.5555555555555554,
          0.5555555555555554,
          1.666666666666667,
          2.7777777777777786,
          3.8888888888888893,
          5
         ],
         "z": [
          [
           -383.53105042810347,
           -373.05976131230716,
           -362.58847219651085,
           -352.1171830807145,
           -341.6458939649182,
           -331.1746048491218,
           -320.7033157333255,
           -310.23202661752913,
           -299.7607375017328,
           -289.2894483859365
          ],
          [
           -308.6441729306965,
           -298.17288381490016,
           -287.70159469910385,
           -277.23030558330754,
           -266.7590164675112,
           -256.28772735171486,
           -245.81643823591853,
           -235.3451491201222,
           -224.87386000432585,
           -214.40257088852954
          ],
          [
           -233.75729543328956,
           -223.28600631749322,
           -212.81471720169688,
           -202.34342808590057,
           -191.87213897010423,
           -181.4008498543079,
           -170.92956073851155,
           -160.45827162271522,
           -149.98698250691888,
           -139.51569339112257
          ],
          [
           -158.87041793588259,
           -148.39912882008625,
           -137.92783970428994,
           -127.4565505884936,
           -116.98526147269726,
           -106.51397235690094,
           -96.0426832411046,
           -85.57139412530826,
           -75.10010500951192,
           -64.6288158937156
          ],
          [
           -83.98354043847563,
           -73.51225132267929,
           -63.040962206882966,
           -52.569673091086635,
           -42.098383975290304,
           -31.62709485949397,
           -21.15580574369763,
           -10.684516627901296,
           -0.2132275121049647,
           10.25806160369136
          ],
          [
           -9.096662941068693,
           1.3746261747276372,
           11.845915290523969,
           22.317204406320304,
           32.78849352211663,
           43.25978263791296,
           53.7310717537093,
           64.20236086950564,
           74.67364998530198,
           85.1449391010983
          ],
          [
           65.7902145563383,
           76.26150367213464,
           86.73279278793096,
           97.2040819037273,
           107.67537101952364,
           118.14666013531996,
           128.6179492511163,
           139.08923836691264,
           149.56052748270898,
           160.0318165985053
          ],
          [
           140.6770920537453,
           151.14838116954164,
           161.61967028533797,
           172.09095940113428,
           182.56224851693062,
           193.03353763272696,
           203.5048267485233,
           213.97611586431964,
           224.44740498011598,
           234.9186940959123
          ],
          [
           215.56396955115224,
           226.03525866694858,
           236.5065477827449,
           246.97783689854123,
           257.44912601433754,
           267.9204151301339,
           278.3917042459302,
           288.8629933617266,
           299.3342824775229,
           309.8055715933192
          ],
          [
           290.4508470485592,
           300.9221361643555,
           311.3934252801518,
           321.86471439594817,
           332.3360035117445,
           342.80729262754085,
           353.27858174333716,
           363.7498708591335,
           374.22115997492983,
           384.69244909072614
          ]
         ]
        }
       ],
       "layout": {
        "legend": {
         "tracegroupgap": 0
        },
        "margin": {
         "t": 60
        },
        "scene": {
         "domain": {
          "x": [
           0,
           1
          ],
          "y": [
           0,
           1
          ]
         },
         "xaxis": {
          "title": {
           "text": "feature1"
          }
         },
         "yaxis": {
          "title": {
           "text": "feature2"
          }
         },
         "zaxis": {
          "title": {
           "text": "target"
          }
         }
        },
        "template": {
         "data": {
          "bar": [
           {
            "error_x": {
             "color": "#2a3f5f"
            },
            "error_y": {
             "color": "#2a3f5f"
            },
            "marker": {
             "line": {
              "color": "#E5ECF6",
              "width": 0.5
             },
             "pattern": {
              "fillmode": "overlay",
              "size": 10,
              "solidity": 0.2
             }
            },
            "type": "bar"
           }
          ],
          "barpolar": [
           {
            "marker": {
             "line": {
              "color": "#E5ECF6",
              "width": 0.5
             },
             "pattern": {
              "fillmode": "overlay",
              "size": 10,
              "solidity": 0.2
             }
            },
            "type": "barpolar"
           }
          ],
          "carpet": [
           {
            "aaxis": {
             "endlinecolor": "#2a3f5f",
             "gridcolor": "white",
             "linecolor": "white",
             "minorgridcolor": "white",
             "startlinecolor": "#2a3f5f"
            },
            "baxis": {
             "endlinecolor": "#2a3f5f",
             "gridcolor": "white",
             "linecolor": "white",
             "minorgridcolor": "white",
             "startlinecolor": "#2a3f5f"
            },
            "type": "carpet"
           }
          ],
          "choropleth": [
           {
            "colorbar": {
             "outlinewidth": 0,
             "ticks": ""
            },
            "type": "choropleth"
           }
          ],
          "contour": [
           {
            "colorbar": {
             "outlinewidth": 0,
             "ticks": ""
            },
            "colorscale": [
             [
              0,
              "#0d0887"
             ],
             [
              0.1111111111111111,
              "#46039f"
             ],
             [
              0.2222222222222222,
              "#7201a8"
             ],
             [
              0.3333333333333333,
              "#9c179e"
             ],
             [
              0.4444444444444444,
              "#bd3786"
             ],
             [
              0.5555555555555556,
              "#d8576b"
             ],
             [
              0.6666666666666666,
              "#ed7953"
             ],
             [
              0.7777777777777778,
              "#fb9f3a"
             ],
             [
              0.8888888888888888,
              "#fdca26"
             ],
             [
              1,
              "#f0f921"
             ]
            ],
            "type": "contour"
           }
          ],
          "contourcarpet": [
           {
            "colorbar": {
             "outlinewidth": 0,
             "ticks": ""
            },
            "type": "contourcarpet"
           }
          ],
          "heatmap": [
           {
            "colorbar": {
             "outlinewidth": 0,
             "ticks": ""
            },
            "colorscale": [
             [
              0,
              "#0d0887"
             ],
             [
              0.1111111111111111,
              "#46039f"
             ],
             [
              0.2222222222222222,
              "#7201a8"
             ],
             [
              0.3333333333333333,
              "#9c179e"
             ],
             [
              0.4444444444444444,
              "#bd3786"
             ],
             [
              0.5555555555555556,
              "#d8576b"
             ],
             [
              0.6666666666666666,
              "#ed7953"
             ],
             [
              0.7777777777777778,
              "#fb9f3a"
             ],
             [
              0.8888888888888888,
              "#fdca26"
             ],
             [
              1,
              "#f0f921"
             ]
            ],
            "type": "heatmap"
           }
          ],
          "heatmapgl": [
           {
            "colorbar": {
             "outlinewidth": 0,
             "ticks": ""
            },
            "colorscale": [
             [
              0,
              "#0d0887"
             ],
             [
              0.1111111111111111,
              "#46039f"
             ],
             [
              0.2222222222222222,
              "#7201a8"
             ],
             [
              0.3333333333333333,
              "#9c179e"
             ],
             [
              0.4444444444444444,
              "#bd3786"
             ],
             [
              0.5555555555555556,
              "#d8576b"
             ],
             [
              0.6666666666666666,
              "#ed7953"
             ],
             [
              0.7777777777777778,
              "#fb9f3a"
             ],
             [
              0.8888888888888888,
              "#fdca26"
             ],
             [
              1,
              "#f0f921"
             ]
            ],
            "type": "heatmapgl"
           }
          ],
          "histogram": [
           {
            "marker": {
             "pattern": {
              "fillmode": "overlay",
              "size": 10,
              "solidity": 0.2
             }
            },
            "type": "histogram"
           }
          ],
          "histogram2d": [
           {
            "colorbar": {
             "outlinewidth": 0,
             "ticks": ""
            },
            "colorscale": [
             [
              0,
              "#0d0887"
             ],
             [
              0.1111111111111111,
              "#46039f"
             ],
             [
              0.2222222222222222,
              "#7201a8"
             ],
             [
              0.3333333333333333,
              "#9c179e"
             ],
             [
              0.4444444444444444,
              "#bd3786"
             ],
             [
              0.5555555555555556,
              "#d8576b"
             ],
             [
              0.6666666666666666,
              "#ed7953"
             ],
             [
              0.7777777777777778,
              "#fb9f3a"
             ],
             [
              0.8888888888888888,
              "#fdca26"
             ],
             [
              1,
              "#f0f921"
             ]
            ],
            "type": "histogram2d"
           }
          ],
          "histogram2dcontour": [
           {
            "colorbar": {
             "outlinewidth": 0,
             "ticks": ""
            },
            "colorscale": [
             [
              0,
              "#0d0887"
             ],
             [
              0.1111111111111111,
              "#46039f"
             ],
             [
              0.2222222222222222,
              "#7201a8"
             ],
             [
              0.3333333333333333,
              "#9c179e"
             ],
             [
              0.4444444444444444,
              "#bd3786"
             ],
             [
              0.5555555555555556,
              "#d8576b"
             ],
             [
              0.6666666666666666,
              "#ed7953"
             ],
             [
              0.7777777777777778,
              "#fb9f3a"
             ],
             [
              0.8888888888888888,
              "#fdca26"
             ],
             [
              1,
              "#f0f921"
             ]
            ],
            "type": "histogram2dcontour"
           }
          ],
          "mesh3d": [
           {
            "colorbar": {
             "outlinewidth": 0,
             "ticks": ""
            },
            "type": "mesh3d"
           }
          ],
          "parcoords": [
           {
            "line": {
             "colorbar": {
              "outlinewidth": 0,
              "ticks": ""
             }
            },
            "type": "parcoords"
           }
          ],
          "pie": [
           {
            "automargin": true,
            "type": "pie"
           }
          ],
          "scatter": [
           {
            "fillpattern": {
             "fillmode": "overlay",
             "size": 10,
             "solidity": 0.2
            },
            "type": "scatter"
           }
          ],
          "scatter3d": [
           {
            "line": {
             "colorbar": {
              "outlinewidth": 0,
              "ticks": ""
             }
            },
            "marker": {
             "colorbar": {
              "outlinewidth": 0,
              "ticks": ""
             }
            },
            "type": "scatter3d"
           }
          ],
          "scattercarpet": [
           {
            "marker": {
             "colorbar": {
              "outlinewidth": 0,
              "ticks": ""
             }
            },
            "type": "scattercarpet"
           }
          ],
          "scattergeo": [
           {
            "marker": {
             "colorbar": {
              "outlinewidth": 0,
              "ticks": ""
             }
            },
            "type": "scattergeo"
           }
          ],
          "scattergl": [
           {
            "marker": {
             "colorbar": {
              "outlinewidth": 0,
              "ticks": ""
             }
            },
            "type": "scattergl"
           }
          ],
          "scattermapbox": [
           {
            "marker": {
             "colorbar": {
              "outlinewidth": 0,
              "ticks": ""
             }
            },
            "type": "scattermapbox"
           }
          ],
          "scatterpolar": [
           {
            "marker": {
             "colorbar": {
              "outlinewidth": 0,
              "ticks": ""
             }
            },
            "type": "scatterpolar"
           }
          ],
          "scatterpolargl": [
           {
            "marker": {
             "colorbar": {
              "outlinewidth": 0,
              "ticks": ""
             }
            },
            "type": "scatterpolargl"
           }
          ],
          "scatterternary": [
           {
            "marker": {
             "colorbar": {
              "outlinewidth": 0,
              "ticks": ""
             }
            },
            "type": "scatterternary"
           }
          ],
          "surface": [
           {
            "colorbar": {
             "outlinewidth": 0,
             "ticks": ""
            },
            "colorscale": [
             [
              0,
              "#0d0887"
             ],
             [
              0.1111111111111111,
              "#46039f"
             ],
             [
              0.2222222222222222,
              "#7201a8"
             ],
             [
              0.3333333333333333,
              "#9c179e"
             ],
             [
              0.4444444444444444,
              "#bd3786"
             ],
             [
              0.5555555555555556,
              "#d8576b"
             ],
             [
              0.6666666666666666,
              "#ed7953"
             ],
             [
              0.7777777777777778,
              "#fb9f3a"
             ],
             [
              0.8888888888888888,
              "#fdca26"
             ],
             [
              1,
              "#f0f921"
             ]
            ],
            "type": "surface"
           }
          ],
          "table": [
           {
            "cells": {
             "fill": {
              "color": "#EBF0F8"
             },
             "line": {
              "color": "white"
             }
            },
            "header": {
             "fill": {
              "color": "#C8D4E3"
             },
             "line": {
              "color": "white"
             }
            },
            "type": "table"
           }
          ]
         },
         "layout": {
          "annotationdefaults": {
           "arrowcolor": "#2a3f5f",
           "arrowhead": 0,
           "arrowwidth": 1
          },
          "autotypenumbers": "strict",
          "coloraxis": {
           "colorbar": {
            "outlinewidth": 0,
            "ticks": ""
           }
          },
          "colorscale": {
           "diverging": [
            [
             0,
             "#8e0152"
            ],
            [
             0.1,
             "#c51b7d"
            ],
            [
             0.2,
             "#de77ae"
            ],
            [
             0.3,
             "#f1b6da"
            ],
            [
             0.4,
             "#fde0ef"
            ],
            [
             0.5,
             "#f7f7f7"
            ],
            [
             0.6,
             "#e6f5d0"
            ],
            [
             0.7,
             "#b8e186"
            ],
            [
             0.8,
             "#7fbc41"
            ],
            [
             0.9,
             "#4d9221"
            ],
            [
             1,
             "#276419"
            ]
           ],
           "sequential": [
            [
             0,
             "#0d0887"
            ],
            [
             0.1111111111111111,
             "#46039f"
            ],
            [
             0.2222222222222222,
             "#7201a8"
            ],
            [
             0.3333333333333333,
             "#9c179e"
            ],
            [
             0.4444444444444444,
             "#bd3786"
            ],
            [
             0.5555555555555556,
             "#d8576b"
            ],
            [
             0.6666666666666666,
             "#ed7953"
            ],
            [
             0.7777777777777778,
             "#fb9f3a"
            ],
            [
             0.8888888888888888,
             "#fdca26"
            ],
            [
             1,
             "#f0f921"
            ]
           ],
           "sequentialminus": [
            [
             0,
             "#0d0887"
            ],
            [
             0.1111111111111111,
             "#46039f"
            ],
            [
             0.2222222222222222,
             "#7201a8"
            ],
            [
             0.3333333333333333,
             "#9c179e"
            ],
            [
             0.4444444444444444,
             "#bd3786"
            ],
            [
             0.5555555555555556,
             "#d8576b"
            ],
            [
             0.6666666666666666,
             "#ed7953"
            ],
            [
             0.7777777777777778,
             "#fb9f3a"
            ],
            [
             0.8888888888888888,
             "#fdca26"
            ],
            [
             1,
             "#f0f921"
            ]
           ]
          },
          "colorway": [
           "#636efa",
           "#EF553B",
           "#00cc96",
           "#ab63fa",
           "#FFA15A",
           "#19d3f3",
           "#FF6692",
           "#B6E880",
           "#FF97FF",
           "#FECB52"
          ],
          "font": {
           "color": "#2a3f5f"
          },
          "geo": {
           "bgcolor": "white",
           "lakecolor": "white",
           "landcolor": "#E5ECF6",
           "showlakes": true,
           "showland": true,
           "subunitcolor": "white"
          },
          "hoverlabel": {
           "align": "left"
          },
          "hovermode": "closest",
          "mapbox": {
           "style": "light"
          },
          "paper_bgcolor": "white",
          "plot_bgcolor": "#E5ECF6",
          "polar": {
           "angularaxis": {
            "gridcolor": "white",
            "linecolor": "white",
            "ticks": ""
           },
           "bgcolor": "#E5ECF6",
           "radialaxis": {
            "gridcolor": "white",
            "linecolor": "white",
            "ticks": ""
           }
          },
          "scene": {
           "xaxis": {
            "backgroundcolor": "#E5ECF6",
            "gridcolor": "white",
            "gridwidth": 2,
            "linecolor": "white",
            "showbackground": true,
            "ticks": "",
            "zerolinecolor": "white"
           },
           "yaxis": {
            "backgroundcolor": "#E5ECF6",
            "gridcolor": "white",
            "gridwidth": 2,
            "linecolor": "white",
            "showbackground": true,
            "ticks": "",
            "zerolinecolor": "white"
           },
           "zaxis": {
            "backgroundcolor": "#E5ECF6",
            "gridcolor": "white",
            "gridwidth": 2,
            "linecolor": "white",
            "showbackground": true,
            "ticks": "",
            "zerolinecolor": "white"
           }
          },
          "shapedefaults": {
           "line": {
            "color": "#2a3f5f"
           }
          },
          "ternary": {
           "aaxis": {
            "gridcolor": "white",
            "linecolor": "white",
            "ticks": ""
           },
           "baxis": {
            "gridcolor": "white",
            "linecolor": "white",
            "ticks": ""
           },
           "bgcolor": "#E5ECF6",
           "caxis": {
            "gridcolor": "white",
            "linecolor": "white",
            "ticks": ""
           }
          },
          "title": {
           "x": 0.05
          },
          "xaxis": {
           "automargin": true,
           "gridcolor": "white",
           "linecolor": "white",
           "ticks": "",
           "title": {
            "standoff": 15
           },
           "zerolinecolor": "white",
           "zerolinewidth": 2
          },
          "yaxis": {
           "automargin": true,
           "gridcolor": "white",
           "linecolor": "white",
           "ticks": "",
           "title": {
            "standoff": 15
           },
           "zerolinecolor": "white",
           "zerolinewidth": 2
          }
         }
        }
       }
      }
     },
     "metadata": {},
     "output_type": "display_data"
    }
   ],
   "source": [
    "fig = px.scatter_3d(df, x='feature1', y='feature2', z='target')\n",
    "\n",
    "fig.add_trace(go.Surface(x = x, y = y, z = z ))\n",
    "\n",
    "fig.show()"
   ]
  },
  {
   "cell_type": "code",
   "execution_count": null,
   "id": "dab61054",
   "metadata": {},
   "outputs": [],
   "source": []
  },
  {
   "cell_type": "code",
   "execution_count": null,
   "id": "674a53ce",
   "metadata": {},
   "outputs": [],
   "source": []
  }
 ],
 "metadata": {
  "kernelspec": {
   "display_name": "Python 3 (ipykernel)",
   "language": "python",
   "name": "python3"
  },
  "language_info": {
   "codemirror_mode": {
    "name": "ipython",
    "version": 3
   },
   "file_extension": ".py",
   "mimetype": "text/x-python",
   "name": "python",
   "nbconvert_exporter": "python",
   "pygments_lexer": "ipython3",
   "version": "3.11.7"
  }
 },
 "nbformat": 4,
 "nbformat_minor": 5
}
